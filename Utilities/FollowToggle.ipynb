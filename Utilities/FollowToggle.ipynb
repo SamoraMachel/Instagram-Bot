{
 "cells": [
  {
   "cell_type": "markdown",
   "metadata": {},
   "source": [
    "## Script for performing a follow  toggle action  \n",
    "\n",
    "This script performs a follow and unfollow action on the user's profile page <br/>\n",
    "the function will take in the follow  option as the main parameter "
   ]
  },
  {
   "cell_type": "markdown",
   "metadata": {},
   "source": [
    "##### First we start by importing the neccessary packages\n",
    "- [selenium](https://pypi.org/project/selenium/) Used for web automation \n",
    "- [beautiful soap](https://www.crummy.com/software/BeautifulSoup/bs4/doc/) used for web scraping \n",
    "- [time](https://www.programiz.com/python-programming/time) Used for manipulating time during the execution of our program \n",
    "- botException  - a list of custom Exceptions \n"
   ]
  },
  {
   "cell_type": "code",
   "execution_count": null,
   "metadata": {},
   "outputs": [],
   "source": [
    "from selenium import webdriver \n",
    "from time import sleep\n",
    "from botException import *"
   ]
  },
  {
   "cell_type": "markdown",
   "metadata": {},
   "source": [
    "### We create the toggle follow function \n",
    "The main parameter required is \n",
    " - follow (type Boolean)\n",
    " - urls (type list)\n",
    "\n",
    "The ```follow``` parameter will be used to make decision on whether to follow or unfollow <br/>\n",
    "while the ```url``` parameter get the profile of each and every person and either follow <br/>\n",
    "or unfollow a person depending on the value follow parameter "
   ]
  },
  {
   "cell_type": "code",
   "execution_count": null,
   "metadata": {},
   "outputs": [],
   "source": [
    "def toggelFollow (urls:list, InstaDriver:webdriver = None, path:str = None, follow:bool = True) -> Exception or bool:\n",
    "    baseURL = \"https://www.instagram.com/\"\n",
    "    if InstaDriver == None:\n",
    "        # Incase a webdriver is not passed the program will halt \n",
    "        raise MissingWebDriver(\"No web driver defined\") \n",
    "        \n",
    "    if not type(urls) is list: # halts the program if the url is of data type other than list \n",
    "        raise Exception(\"The urls should be of type list\")\n",
    "        \n",
    "    for singleURL in urls: # iterates over the urls to perform the toggle follow action\n",
    "        try:\n",
    "            InstaDriver.get(baseURL + eachURL) # navigates the profile page of the \n",
    "        except Exception as error:\n",
    "            return error # raised if the users' page doesn't exit \n",
    "        \n",
    "        # if it exists then the program continues to crawls through the page\n",
    "        if follow:  \n",
    "            try:\n",
    "                followbtn = InstaDriver.find_element_by_tag_name(\"Follow\") or  \\\n",
    "                    InstaDriver.find_element_by_tag_name(\"Follow Back\")\n",
    "                followbtn.click()\n",
    "            except Exception as error:\n",
    "                return error\n",
    "        \n",
    "    "
   ]
  }
 ],
 "metadata": {
  "kernelspec": {
   "display_name": "Python 3.8.2 64-bit",
   "language": "python",
   "name": "python38264bit84eea366a7cc4989a24371dbfdf311c1"
  },
  "language_info": {
   "codemirror_mode": {
    "name": "ipython",
    "version": 3
   },
   "file_extension": ".py",
   "mimetype": "text/x-python",
   "name": "python",
   "nbconvert_exporter": "python",
   "pygments_lexer": "ipython3",
   "version": "3.8.2"
  }
 },
 "nbformat": 4,
 "nbformat_minor": 4
}
