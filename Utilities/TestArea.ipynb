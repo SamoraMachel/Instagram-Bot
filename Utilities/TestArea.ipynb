{
 "cells": [
  {
   "cell_type": "code",
   "execution_count": 1,
   "metadata": {},
   "outputs": [],
   "source": [
    "from selenium import webdriver\n",
    "from Encrypter import Encrypt\n",
    "from time import sleep\n",
    "from botException import *"
   ]
  },
  {
   "cell_type": "code",
   "execution_count": 2,
   "metadata": {},
   "outputs": [],
   "source": [
    "def Login (username:str, password:str, path:str, InstaDriver:webdriver = None, pageFound:bool = False) -> Exception or webdriver:\n",
    "    if InstaDriver == None:\n",
    "        # Instatiation of the webdriver as a global variable\n",
    "        InstaDriver = webdriver.Firefox(executable_path=path) \n",
    "            \n",
    "    pageFound = False  # used to check if the pages to be requested has been found\n",
    "    if not pageFound:  # Executes only if the page hasn't been loaded\n",
    "        try:\n",
    "            InstaDriver.get('https://www.instagram.com/')  # navigates to instagram's login page\n",
    "        except Exception as error:\n",
    "            return error\n",
    "    \n",
    "    sleep(3)  # wait for the page to load\n",
    "    \n",
    "    try:\n",
    "        InstaDriver.find_element_by_name(\"username\").send_keys(username)  # find the username entry field\n",
    "        InstaDriver.find_element_by_name(\"password\").send_keys(password)  # find the password entry field\n",
    "    except Exception as error:\n",
    "        if pageFound:\n",
    "            # incase of a poor internet connection \n",
    "            # we repeat the process but now passing in the pageFound variable\n",
    "            Login(path, username, password, InstaDriver, pageFound)\n",
    "        else: # incase of an unknown source of error\n",
    "            return error\n",
    "        \n",
    "    # Incase of a successfull  entry of data, it will the submit the data\n",
    "    # get the submit data the auto click to submit\n",
    "    try:\n",
    "        InstaDriver.find_element_by_xpath(\"//button[@type = 'submit']\").click()\n",
    "        return InstaDriver\n",
    "    except Exception as error:\n",
    "        # Incase of any uncaught error we'll  raise an submit error\n",
    "        return error\n",
    "    "
   ]
  },
  {
   "cell_type": "code",
   "execution_count": 55,
   "metadata": {},
   "outputs": [],
   "source": [
    "def toggelFollow (urls:list, InstaDriver:webdriver = None, follow:bool = True) -> Exception or bool:\n",
    "    baseURL = \"https://www.instagram.com/\"\n",
    "    if InstaDriver == None:\n",
    "        # Incase a webdriver is not passed the program will halt \n",
    "        raise MissingWebDriver(\"No web driver defined\") \n",
    "        \n",
    "    if not type(urls) is list: # halts the program if the url is of data type other than list \n",
    "        raise Exception(\"The urls should be of type list\")\n",
    "        \n",
    "    for singleURL in urls: # iterates over the urls to perform the toggle follow action\n",
    "        try:\n",
    "            InstaDriver.get(baseURL + singleURL + '/') # navigates the profile page of the\n",
    "\n",
    "        except Exception as error:\n",
    "            return error # raised if the users' page doesn't exit \n",
    "        \n",
    "#         mainSection = InstaDriver.find_element_by_xpath(\"//main[@role='main']\")\n",
    "        \n",
    "        # if it exists then the program continues to crawls through the page\n",
    "        if follow:  \n",
    "            try:\n",
    "                sleep(2)\n",
    "                followbtn = InstaDriver.find_elements_by_tag_name(\"button\")\n",
    "                followbtn[0].click()\n",
    "                sleep(2)\n",
    "            except Exception as error:\n",
    "                return error\n",
    "    "
   ]
  },
  {
   "cell_type": "code",
   "execution_count": 56,
   "metadata": {},
   "outputs": [],
   "source": [
    "sam = Login(username=\"pydevjnr\", password=\"112358\", path=\"/home/samora/Documents/Instagram-Bot/Utilities/webdrivers/LinuxFirefox\")\n",
    "passed = toggelFollow(urls=['_d.o.n.t.e_'], InstaDriver=sam)\n",
    "passed"
   ]
  },
  {
   "cell_type": "code",
   "execution_count": 57,
   "metadata": {},
   "outputs": [],
   "source": [
    "sam.quit()"
   ]
  }
 ],
 "metadata": {
  "kernelspec": {
   "display_name": "Python 3.8.2 64-bit",
   "language": "python",
   "name": "python38264bit84eea366a7cc4989a24371dbfdf311c1"
  },
  "language_info": {
   "codemirror_mode": {
    "name": "ipython",
    "version": 3
   },
   "file_extension": ".py",
   "mimetype": "text/x-python",
   "name": "python",
   "nbconvert_exporter": "python",
   "pygments_lexer": "ipython3",
   "version": "3.8.2"
  }
 },
 "nbformat": 4,
 "nbformat_minor": 4
}
