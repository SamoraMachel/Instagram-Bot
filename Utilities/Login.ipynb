{
 "cells": [
  {
   "cell_type": "markdown",
   "metadata": {},
   "source": [
    "## Script for performing the login process\n",
    "\n",
    "Will request the user for:\n",
    " - username\n",
    " - password\n",
    " \n",
    "After a successfull retrieval, it will the encrypt the data \n",
    "and then store for a later retrieval"
   ]
  },
  {
   "cell_type": "markdown",
   "metadata": {},
   "source": [
    "#### First we start of by Importing the neccessary modules needed\n",
    " - [selenium](https://pypi.org/project/selenium/) Used for web automation \n",
    " \n",
    " - [Encrypter](./Encrypter) Used for encrypting our credentials and storing the to an external file <br/>\n",
    "     Local file\n",
    " - [time](https://www.programiz.com/python-programming/time) Used for manipulating time during the execution of our program \n",
    "\n",
    " "
   ]
  },
  {
   "cell_type": "code",
   "execution_count": 2,
   "metadata": {},
   "outputs": [],
   "source": [
    "from selenium import webdriver\n",
    "from Encrypter import Encrypt\n",
    "from time import sleep"
   ]
  },
  {
   "cell_type": "markdown",
   "metadata": {},
   "source": [
    "### We create the Login function \n",
    "The main parameters to be passed are:\n",
    "   - path to webdriver\n",
    "\n",
    "   - username\n",
    "   \n",
    "   - password\n",
    "\n",
    "The ```path to webdriver``` will be used to instantiate our driver. <br/>\n",
    "The ```username``` and ```password``` will be passed in as values to instagram's login <br/>\n",
    "form after scrapping the page.<br/>\n",
    "We instatiate the `webdriver` as global variable so that we can use it later"
   ]
  },
  {
   "cell_type": "code",
   "execution_count": 15,
   "metadata": {},
   "outputs": [],
   "source": [
    "def Login (path:str, username:str, password:str, InstaDriver:webdriver = None, pageFound:bool = False) -> Exception or True:\n",
    "    if InstaDriver == None:\n",
    "        global driver # Instatiation of the webdriver as a global variable\n",
    "        driver = webdriver.Firefox(executable_path=path) \n",
    "        InstaDriver = driver\n",
    "        \n",
    "    pageFound = False  # used to check if the pages to be requested has been found\n",
    "    if not pageFound:  # Executes only if the page hasn't been loaded\n",
    "        try:\n",
    "            InstaDriver.get('https://www.instagram.com/')  # navigates to instagram's login page\n",
    "        except Exception as error:\n",
    "            return error\n",
    "    \n",
    "    sleep(3)  # wait for the page to load\n",
    "    \n",
    "    try:\n",
    "        InstaDriver.find_element_by_name(\"username\").send_keys(username)  # find the username entry field\n",
    "        InstaDriver.find_element_by_name(\"password\").send_keys(password)  # find the password entry field\n",
    "    except Exception as error:\n",
    "        if pageFound:\n",
    "            # incase of a poor internet connection \n",
    "            # we repeat the process but now passing in the pageFound variable\n",
    "            Login(path, username, password, pageFound)\n",
    "        else: # incase of an unknown source of error\n",
    "            return error\n",
    "        \n",
    "    # Incase of a successfull  entry of data, it will the submit the data\n",
    "    # get the submit data the auto click to submit\n",
    "    try:\n",
    "        InstaDriver.find_element_by_xpath(\"//button[@type = 'submit']\").click()\n",
    "        return True\n",
    "    except Exception as error:\n",
    "        # Incase of any uncaught error we'll  raise an submit error\n",
    "        return error\n",
    "    "
   ]
  },
  {
   "cell_type": "code",
   "execution_count": 16,
   "metadata": {
    "tags": []
   },
   "outputs": [
    {
     "output_type": "stream",
     "name": "stdout",
     "text": "True\n"
    }
   ],
   "source": []
  },
  {
   "cell_type": "code",
   "execution_count": null,
   "metadata": {},
   "outputs": [],
   "source": []
  }
 ],
 "metadata": {
  "kernelspec": {
   "display_name": "Python 3.8.2 64-bit",
   "language": "python",
   "name": "python38264bit84eea366a7cc4989a24371dbfdf311c1"
  },
  "language_info": {
   "codemirror_mode": {
    "name": "ipython",
    "version": 3
   },
   "file_extension": ".py",
   "mimetype": "text/x-python",
   "name": "python",
   "nbconvert_exporter": "python",
   "pygments_lexer": "ipython3",
   "version": "3.8.2-final"
  }
 },
 "nbformat": 4,
 "nbformat_minor": 4
}